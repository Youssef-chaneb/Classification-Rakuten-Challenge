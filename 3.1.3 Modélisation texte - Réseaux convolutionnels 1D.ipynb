{
 "cells": [
  {
   "cell_type": "markdown",
   "metadata": {},
   "source": [
    "## 3. Modélisation"
   ]
  },
  {
   "cell_type": "markdown",
   "metadata": {},
   "source": [
    "### 3.1 Données texte :"
   ]
  },
  {
   "cell_type": "markdown",
   "metadata": {},
   "source": [
    "#### 3.1.5 Modélisation texte - Réseaux convolutionnels 1D "
   ]
  },
  {
   "cell_type": "code",
   "execution_count": 1,
   "metadata": {
    "colab": {
     "base_uri": "https://localhost:8080/"
    },
    "id": "jX6WJd40fFzH",
    "outputId": "c94d7d1c-0c28-45ed-8ca1-a5bd152d6c8e"
   },
   "outputs": [],
   "source": [
    "from keras.utils import np_utils \n",
    "import tensorflow as tf\n",
    "from tensorflow import keras\n",
    "import pandas as pd\n",
    "import numpy as np\n",
    "import matplotlib.pyplot as plt\n",
    "import os\n",
    "import time\n",
    "import re\n",
    "import string\n",
    "from joblib import load\n"
   ]
  },
  {
   "cell_type": "code",
   "execution_count": 2,
   "metadata": {
    "colab": {
     "base_uri": "https://localhost:8080/",
     "height": 204
    },
    "id": "h4gSUGtefuD5",
    "outputId": "1867dc69-6f21-4d7f-877a-4b8f340fa57c"
   },
   "outputs": [],
   "source": [
    "import matplotlib.pyplot as plt\n",
    "\n",
    "data=pd.read_csv('X_train_update.csv',index_col=0)\n",
    "target=pd.read_csv('Y_train_CVw08PX.csv',index_col=0)\n",
    "df=data.join(target)\n"
   ]
  },
  {
   "cell_type": "markdown",
   "metadata": {},
   "source": [
    "## Nettoyage des données\n"
   ]
  },
  {
   "cell_type": "markdown",
   "metadata": {},
   "source": [
    "\n",
    "Nous allons d'abord commencer à supprimer les mots vides, les caractères spéciaux et la ponctuation"
   ]
  },
  {
   "cell_type": "code",
   "execution_count": 3,
   "metadata": {
    "id": "rcwNHaWKeApo"
   },
   "outputs": [
    {
     "data": {
      "text/html": [
       "<div>\n",
       "<style scoped>\n",
       "    .dataframe tbody tr th:only-of-type {\n",
       "        vertical-align: middle;\n",
       "    }\n",
       "\n",
       "    .dataframe tbody tr th {\n",
       "        vertical-align: top;\n",
       "    }\n",
       "\n",
       "    .dataframe thead th {\n",
       "        text-align: right;\n",
       "    }\n",
       "</style>\n",
       "<table border=\"1\" class=\"dataframe\">\n",
       "  <thead>\n",
       "    <tr style=\"text-align: right;\">\n",
       "      <th></th>\n",
       "      <th>productid</th>\n",
       "      <th>imageid</th>\n",
       "      <th>prdtypecode</th>\n",
       "      <th>text</th>\n",
       "    </tr>\n",
       "  </thead>\n",
       "  <tbody>\n",
       "    <tr>\n",
       "      <th>0</th>\n",
       "      <td>3804725264</td>\n",
       "      <td>1263597046</td>\n",
       "      <td>10</td>\n",
       "      <td>Olivia: Personalisiertes Notizbuch / 150 Seite...</td>\n",
       "    </tr>\n",
       "    <tr>\n",
       "      <th>1</th>\n",
       "      <td>436067568</td>\n",
       "      <td>1008141237</td>\n",
       "      <td>2280</td>\n",
       "      <td>Journal Des Arts (Le) N° 133 Du 28/09/2001 - L...</td>\n",
       "    </tr>\n",
       "    <tr>\n",
       "      <th>2</th>\n",
       "      <td>201115110</td>\n",
       "      <td>938777978</td>\n",
       "      <td>50</td>\n",
       "      <td>Grand Stylet Ergonomique Bleu Gamepad Nintendo...</td>\n",
       "    </tr>\n",
       "    <tr>\n",
       "      <th>3</th>\n",
       "      <td>50418756</td>\n",
       "      <td>457047496</td>\n",
       "      <td>1280</td>\n",
       "      <td>Peluche Donald - Europe - Disneyland 2000 (Mar...</td>\n",
       "    </tr>\n",
       "    <tr>\n",
       "      <th>4</th>\n",
       "      <td>278535884</td>\n",
       "      <td>1077757786</td>\n",
       "      <td>2705</td>\n",
       "      <td>La Guerre Des TuquesLuc a des id&amp;eacute;es de ...</td>\n",
       "    </tr>\n",
       "  </tbody>\n",
       "</table>\n",
       "</div>"
      ],
      "text/plain": [
       "    productid     imageid  prdtypecode  \\\n",
       "0  3804725264  1263597046           10   \n",
       "1   436067568  1008141237         2280   \n",
       "2   201115110   938777978           50   \n",
       "3    50418756   457047496         1280   \n",
       "4   278535884  1077757786         2705   \n",
       "\n",
       "                                                text  \n",
       "0  Olivia: Personalisiertes Notizbuch / 150 Seite...  \n",
       "1  Journal Des Arts (Le) N° 133 Du 28/09/2001 - L...  \n",
       "2  Grand Stylet Ergonomique Bleu Gamepad Nintendo...  \n",
       "3  Peluche Donald - Europe - Disneyland 2000 (Mar...  \n",
       "4  La Guerre Des TuquesLuc a des id&eacute;es de ...  "
      ]
     },
     "execution_count": 3,
     "metadata": {},
     "output_type": "execute_result"
    }
   ],
   "source": [
    "df.description.fillna('',inplace=True)\n",
    "df['text']=df.designation+df.description\n",
    "df.drop(['designation','description'],axis=1,inplace=True)\n",
    "df.head()"
   ]
  },
  {
   "cell_type": "code",
   "execution_count": null,
   "metadata": {
    "id": "nq4CpVg8nTx8"
   },
   "outputs": [],
   "source": [
    "import re \n",
    "import string\n",
    "def clean_text_round1(text):\n",
    "  text = text.lower()\n",
    "  text = re.sub('\\[.*?\\]', '', text)\n",
    "  text = re.sub('[%s]' % re.escape(string.punctuation), '', text)\n",
    "  text = re.sub('\\w*\\d\\w*', '', text)\n",
    "  return text\n",
    "\n",
    "round1 = lambda x: clean_text_round1(x)"
   ]
  },
  {
   "cell_type": "code",
   "execution_count": null,
   "metadata": {
    "id": "hs4WC-xznUW-"
   },
   "outputs": [],
   "source": [
    "df.text=df.text.apply(round1)\n"
   ]
  },
  {
   "cell_type": "code",
   "execution_count": null,
   "metadata": {
    "id": "FV4a6Po1nUxg"
   },
   "outputs": [],
   "source": [
    "# Apply a second round of cleaning\n",
    "def clean_text_round2(text):\n",
    "    '''Get rid of some additional punctuation and non-sensical text that was missed the first time around.'''\n",
    "    text = re.sub('[‘’“”…]', '', text)\n",
    "    text = re.sub('\\n', '', text)\n",
    "    return text\n",
    "\n",
    "round2 = lambda x: clean_text_round2(x)"
   ]
  },
  {
   "cell_type": "code",
   "execution_count": null,
   "metadata": {
    "id": "6UQnW58TgDrn"
   },
   "outputs": [],
   "source": [
    "df.text=df.text.apply(round2)\n"
   ]
  },
  {
   "cell_type": "code",
   "execution_count": null,
   "metadata": {
    "id": "r3H0Wvi2XUyY"
   },
   "outputs": [],
   "source": [
    "def remove_punct(text):\n",
    "    translator = str.maketrans(\"\", \"\", string.punctuation)\n",
    "    return text.translate(translator)\n",
    "\n",
    "df[\"text\"] = df.text.map(remove_punct)"
   ]
  },
  {
   "cell_type": "code",
   "execution_count": null,
   "metadata": {
    "colab": {
     "base_uri": "https://localhost:8080/"
    },
    "id": "gb85AdjQXUyY",
    "outputId": "01999b0b-3bd1-4c2e-8733-4a6084727d2e"
   },
   "outputs": [
    {
     "data": {
      "text/plain": [
       "0        olivia personalisiertes notizbuch   seiten  pu...\n",
       "1        journal des arts le n°  du   lart et son march...\n",
       "2        grand stylet ergonomique bleu gamepad nintendo...\n",
       "3        peluche donald  europe  disneyland  marionnett...\n",
       "4        la guerre des tuquesluc a des ideacutees de gr...\n",
       "                               ...                        \n",
       "84911                                            the sims \n",
       "84912    kit piscine acier nevada déco pierre ø  x  com...\n",
       "84913    journal officiel de la republique francaise n°...\n",
       "84914    table basse bois de récupération massif base b...\n",
       "84915    gomme de collection  gommes pinguin glace vert...\n",
       "Name: text, Length: 84916, dtype: object"
      ]
     },
     "execution_count": 45,
     "metadata": {
      "tags": []
     },
     "output_type": "execute_result"
    }
   ],
   "source": [
    "df.text"
   ]
  },
  {
   "cell_type": "code",
   "execution_count": null,
   "metadata": {
    "colab": {
     "base_uri": "https://localhost:8080/"
    },
    "id": "sDKMS3lKzrea",
    "outputId": "7207831d-d6e0-4c90-a4c8-c962bb067653"
   },
   "outputs": [
    {
     "name": "stdout",
     "output_type": "stream",
     "text": [
      "[nltk_data] Downloading package stopwords to /root/nltk_data...\n",
      "[nltk_data]   Unzipping corpora/stopwords.zip.\n"
     ]
    }
   ],
   "source": [
    "import nltk\n",
    "nltk.download('stopwords')\n",
    "from nltk.corpus import stopwords\n",
    "\n",
    "# Initialiser la variable des mots vides\n",
    "stop_words = set(stopwords.words('french'))\n",
    "stop_words_en = set(stopwords.words('english'))\n",
    "stop_words.update(stop_words_en)\n",
    "stop_words.update([\",\", \".\",'la','les','de','un','une','x'])\n",
    "\n",
    "def stop_words_filtering(mots) : \n",
    "    tokens = []\n",
    "    for mot in mots:\n",
    "        if mot not in stop_words:\n",
    "            tokens.append(mot)\n",
    "    return tokens\n",
    "\n",
    "df[\"text\"] = df.text.map(stop_words_filtering)"
   ]
  },
  {
   "cell_type": "markdown",
   "metadata": {},
   "source": [
    "## Vectorisation du texte"
   ]
  },
  {
   "cell_type": "markdown",
   "metadata": {},
   "source": [
    "Nous allons d'abord commencer par vectoriser tous les mots du texte et compter le nombre de mots uniques"
   ]
  },
  {
   "cell_type": "code",
   "execution_count": null,
   "metadata": {
    "id": "zqmNIEZLXUyY"
   },
   "outputs": [],
   "source": [
    "from collections import Counter\n",
    "# Fonction retournant le nombre de mot unique\n",
    "def counter_word(text_col):\n",
    "    count = Counter()\n",
    "    for text in text_col.values:\n",
    "        for word in text.split():\n",
    "            count[word] += 1\n",
    "    return count\n",
    "counter = counter_word(df.text)\n",
    "\n"
   ]
  },
  {
   "cell_type": "code",
   "execution_count": null,
   "metadata": {
    "colab": {
     "base_uri": "https://localhost:8080/"
    },
    "id": "5rtyLovFXUyZ",
    "outputId": "3fb7387e-5d47-473e-814c-c057df8e56d2"
   },
   "outputs": [
    {
     "data": {
      "text/plain": [
       "215472"
      ]
     },
     "execution_count": 48,
     "metadata": {
      "tags": []
     },
     "output_type": "execute_result"
    }
   ],
   "source": [
    "num_unique_words = len(counter)\n",
    "num_unique_words"
   ]
  },
  {
   "cell_type": "markdown",
   "metadata": {},
   "source": [
    "Nous allons ensuite séparer les données en un jeu d'entrainement et un jeu de test"
   ]
  },
  {
   "cell_type": "code",
   "execution_count": null,
   "metadata": {
    "id": "xvCuEcVcc8oV"
   },
   "outputs": [],
   "source": [
    "\n",
    "from sklearn.model_selection import train_test_split\n",
    "y=target\n",
    "y=y.replace(sorted(y['prdtypecode'].unique()),np.arange(0,27))\n",
    "\n",
    "\n",
    "X_train,X_test,y_train,y_test = train_test_split(df.text,y,test_size=0.2,random_state=42)\n"
   ]
  },
  {
   "cell_type": "markdown",
   "metadata": {},
   "source": [
    "Nous vectorisons la variable target en 27 colonnes afin de la rendre exploitable pour le RNN"
   ]
  },
  {
   "cell_type": "code",
   "execution_count": null,
   "metadata": {
    "id": "VcwkpWYDXUyZ"
   },
   "outputs": [],
   "source": [
    "y_train = np_utils.to_categorical(y_train) \n",
    "y_test = np_utils.to_categorical(y_test)\n"
   ]
  },
  {
   "cell_type": "code",
   "execution_count": null,
   "metadata": {
    "colab": {
     "base_uri": "https://localhost:8080/"
    },
    "id": "FeRNG5-AXUyZ",
    "outputId": "33e09eab-1eb4-4ab2-eda3-f16734f38b26"
   },
   "outputs": [
    {
     "data": {
      "text/plain": [
       "array([0., 0., 0., 0., 0., 0., 0., 0., 0., 0., 0., 0., 1., 0., 0., 0., 0.,\n",
       "       0., 0., 0., 0., 0., 0., 0., 0., 0., 0.], dtype=float32)"
      ]
     },
     "execution_count": 51,
     "metadata": {
      "tags": []
     },
     "output_type": "execute_result"
    }
   ],
   "source": [
    "y_train[0]"
   ]
  },
  {
   "cell_type": "markdown",
   "metadata": {},
   "source": [
    "Nous utilisons la fonction Tokenizer qui affecte un chiffre à chaque mot unique du Dataset. La méthode text-to-sequences nous permet ensuite de vectoriser chaque annonce en remplaçant les mots par le chiffre correspondant au mot"
   ]
  },
  {
   "cell_type": "code",
   "execution_count": null,
   "metadata": {
    "id": "Xg9H61kH_kSM"
   },
   "outputs": [],
   "source": [
    "# Tokenize\n",
    "from tensorflow.keras.preprocessing.text import Tokenizer\n",
    "\n",
    "# On transforme nos mots en vecteurs d'entier\n",
    "tokenizer = Tokenizer(num_words=num_unique_words)\n",
    "tokenizer.fit_on_texts(X_train)\n",
    "\n",
    "\n"
   ]
  },
  {
   "cell_type": "code",
   "execution_count": null,
   "metadata": {
    "id": "Qn19zHaOP_UQ"
   },
   "outputs": [],
   "source": [
    "# On transforme nos phrases en séquences d'entier\n",
    "train_sequences = tokenizer.texts_to_sequences(X_train)\n",
    "val_sequences = tokenizer.texts_to_sequences(X_test)\n",
    "\n"
   ]
  },
  {
   "cell_type": "code",
   "execution_count": null,
   "metadata": {
    "colab": {
     "base_uri": "https://localhost:8080/"
    },
    "id": "wkot5tDWsOok",
    "outputId": "0ec01acc-fbde-43f2-d112-85c5e3a3ac49"
   },
   "outputs": [
    {
     "name": "stdout",
     "output_type": "stream",
     "text": [
      "journal des arts le n°  du   lart et son marche salon dart asiatique a paris  jacques barrere  francois perrier  la reforme des ventes aux encheres publiques  le sna fete ses cent ans\n",
      "[2150, 7, 54, 1, 743, 33, 552, 29, 45647, 5828, 54, 1, 498, 20, 3308, 231, 2019, 4456, 7, 2075, 5828, 17019, 1, 622, 75, 1731, 15, 1, 21919, 11, 645, 1, 3744, 376, 1, 2657, 10, 45648, 39, 54, 163, 1, 2569, 2, 662, 6, 83652, 8, 6735, 5, 2, 395, 33610, 12, 54, 83653, 12, 54, 83654, 83655, 3015, 2, 83656]\n"
     ]
    }
   ],
   "source": [
    "print(X_train[1])\n",
    "print(train_sequences[1])"
   ]
  },
  {
   "cell_type": "markdown",
   "metadata": {},
   "source": [
    "La fonction pad_sequence nous permet d'harmoniser la longueur de chaque séquence vectorisée. Nous fixons la taille maximale du vecteur à 300."
   ]
  },
  {
   "cell_type": "code",
   "execution_count": null,
   "metadata": {
    "id": "EmOTDB_1zpya"
   },
   "outputs": [],
   "source": [
    "# On importe de tensorFlow\n",
    "from tensorflow.keras.preprocessing.sequence import pad_sequences\n",
    "# On définit la longueur max de chaque séquence.\n",
    "max_length = 1500\n",
    "# On \"pad\" nos phrases\n",
    "train_padded = pad_sequences(train_sequences, maxlen=max_length, padding=\"post\", truncating=\"post\")\n",
    "\n",
    "val_padded = pad_sequences(val_sequences, maxlen=max_length, padding=\"post\", truncating=\"post\")"
   ]
  },
  {
   "cell_type": "code",
   "execution_count": null,
   "metadata": {
    "colab": {
     "base_uri": "https://localhost:8080/"
    },
    "id": "qaBaTXFb0HH6",
    "outputId": "bf2f33fa-f2d1-49aa-a2d4-897b2368505a",
    "scrolled": true
   },
   "outputs": [
    {
     "name": "stdout",
     "output_type": "stream",
     "text": [
      "journal des arts le n°  du   lart et son marche salon dart asiatique a paris  jacques barrere  francois perrier  la reforme des ventes aux encheres publiques  le sna fete ses cent ans\n",
      "[2150, 7, 54, 1, 743, 33, 552, 29, 45647, 5828, 54, 1, 498, 20, 3308, 231, 2019, 4456, 7, 2075, 5828, 17019, 1, 622, 75, 1731, 15, 1, 21919, 11, 645, 1, 3744, 376, 1, 2657, 10, 45648, 39, 54, 163, 1, 2569, 2, 662, 6, 83652, 8, 6735, 5, 2, 395, 33610, 12, 54, 83653, 12, 54, 83654, 83655, 3015, 2, 83656]\n",
      "[2150    7   54 ...    0    0    0]\n"
     ]
    }
   ],
   "source": [
    "print(X_train[1])\n",
    "print(train_sequences[1])\n",
    "print(train_padded[1])"
   ]
  },
  {
   "cell_type": "markdown",
   "metadata": {},
   "source": [
    "## Création du réseau convolutionnel à une dimension"
   ]
  },
  {
   "cell_type": "markdown",
   "metadata": {},
   "source": [
    "Nous allons créer un réseau convolutionnel de 5 couches comprenant :\n",
    "Une couche d'embedding,\n",
    "Une couche de Dropout,\n",
    "Une couche de convolution à une dimension et 256 filtres,\n",
    "Une couche de max-pooling,\n",
    "Une couche de sortie avec fonction d'activation softmax.\n"
   ]
  },
  {
   "cell_type": "code",
   "execution_count": null,
   "metadata": {
    "colab": {
     "base_uri": "https://localhost:8080/"
    },
    "id": "PSil98qdodxh",
    "outputId": "fd67a4de-cbc1-4df0-b07b-934541f97b69"
   },
   "outputs": [
    {
     "name": "stdout",
     "output_type": "stream",
     "text": [
      "Model: \"sequential\"\n",
      "_________________________________________________________________\n",
      "Layer (type)                 Output Shape              Param #   \n",
      "=================================================================\n",
      "embedding (Embedding)        (None, 1500, 34)          7326048   \n",
      "_________________________________________________________________\n",
      "spatial_dropout1d (SpatialDr (None, 1500, 34)          0         \n",
      "_________________________________________________________________\n",
      "conv1d (Conv1D)              (None, 1499, 256)         17664     \n",
      "_________________________________________________________________\n",
      "global_max_pooling1d (Global (None, 256)               0         \n",
      "_________________________________________________________________\n",
      "dense (Dense)                (None, 27)                6939      \n",
      "=================================================================\n",
      "Total params: 7,350,651\n",
      "Trainable params: 7,350,651\n",
      "Non-trainable params: 0\n",
      "_________________________________________________________________\n"
     ]
    }
   ],
   "source": [
    "from tensorflow.keras import layers\n",
    "\n",
    "model = keras.models.Sequential()\n",
    "model.add(layers.Embedding(num_unique_words, 34, input_length=max_length))\n",
    "model.add(SpatialDropout1D(0.2))\n",
    "model.add(Conv1D(256, 2, activation='relu'))\n",
    "model.add(GlobalMaxPool1D())\n",
    "model.add(Dense(27, activation='softmax'))\n",
    "model.summary()"
   ]
  },
  {
   "cell_type": "code",
   "execution_count": null,
   "metadata": {
    "id": "20YO2cy9ovGp"
   },
   "outputs": [],
   "source": [
    "\n",
    "\n",
    "loss = keras.losses.categorical_crossentropy\n",
    "optim = keras.optimizers.Adam(lr=0.001)\n",
    "metrics = [\"accuracy\"]\n",
    "\n",
    "model.compile(loss=loss, optimizer=optim, metrics=metrics)\n",
    "\n"
   ]
  },
  {
   "cell_type": "code",
   "execution_count": null,
   "metadata": {
    "colab": {
     "base_uri": "https://localhost:8080/"
    },
    "id": "basKf9k4IDhs",
    "outputId": "28e2758f-b67d-4de5-875d-777f9dcf4657"
   },
   "outputs": [
    {
     "name": "stdout",
     "output_type": "stream",
     "text": [
      "Epoch 1/2\n",
      "340/340 - 44s - loss: 0.1542 - accuracy: 0.9576 - val_loss: 0.8189 - val_accuracy: 0.7935\n",
      "Epoch 2/2\n",
      "340/340 - 44s - loss: 0.1157 - accuracy: 0.9680 - val_loss: 0.8610 - val_accuracy: 0.7884\n"
     ]
    }
   ],
   "source": [
    "r = model.fit(train_padded, y_train,batch_size=200, epochs=2, validation_data=(val_padded, y_test), verbose=2)"
   ]
  },
  {
   "cell_type": "code",
   "execution_count": null,
   "metadata": {
    "colab": {
     "base_uri": "https://localhost:8080/",
     "height": 282
    },
    "id": "WjjcCwwUIXnK",
    "outputId": "834c0062-2feb-4e97-97da-2c7b1e0e7718"
   },
   "outputs": [
    {
     "data": {
      "text/plain": [
       "<matplotlib.legend.Legend at 0x7f3fc9bbc080>"
      ]
     },
     "execution_count": 63,
     "metadata": {
      "tags": []
     },
     "output_type": "execute_result"
    },
    {
     "data": {
      "image/png": "[encoded data removed]",
      "text/plain": [
       "<Figure size 432x288 with 1 Axes>"
      ]
     },
     "metadata": {
      "needs_background": "light",
      "tags": []
     },
     "output_type": "display_data"
    }
   ],
   "source": [
    "plt.plot(r.history['val_accuracy'], label='val_accuracy')\n",
    "plt.plot(r.history['accuracy'], label= 'accuracy')\n",
    "plt.legend()"
   ]
  },
  {
   "cell_type": "markdown",
   "metadata": {},
   "source": [
    "Nous atteignons une val-accuracy de 79 %, comme pour les réseaux récurrents, ce modèle est confronté à de grosses problématiques d'overfitting malgré les couches de régularisation"
   ]
  },
  {
   "cell_type": "code",
   "execution_count": null,
   "metadata": {
    "id": "ZswDDqxAXUyc"
   },
   "outputs": [],
   "source": [
    "predictions = model.predict(val_padded)\n"
   ]
  },
  {
   "cell_type": "code",
   "execution_count": null,
   "metadata": {
    "id": "GNAbQNmcXUyc"
   },
   "outputs": [],
   "source": [
    "from sklearn.metrics import classification_report\n",
    "y_pred=np.argmax(predictions,axis=1)\n",
    "y_pred=pd.Series(y_pred)\n",
    "y_pred=y_pred.replace(sorted(y_pred.unique()),sorted(target['prdtypecode'].unique()))\n",
    "y_test=np.argmax(y_test,axis=1)\n",
    "y_test=pd.Series(y_test)\n",
    "y_test=y_test.replace(sorted(y_test.unique()),sorted(target['prdtypecode'].unique()))\n"
   ]
  },
  {
   "cell_type": "code",
   "execution_count": null,
   "metadata": {
    "colab": {
     "base_uri": "https://localhost:8080/"
    },
    "id": "SXw6x3LrXUyc",
    "outputId": "8e6b8d3e-dfe3-466d-d4a3-1b5e7263f783"
   },
   "outputs": [
    {
     "name": "stdout",
     "output_type": "stream",
     "text": [
      "              precision    recall  f1-score   support\n",
      "\n",
      "          10       0.47      0.55      0.50       612\n",
      "          40       0.59      0.65      0.62       521\n",
      "          50       0.80      0.80      0.80       357\n",
      "          60       0.94      0.85      0.89       161\n",
      "        1140       0.73      0.78      0.75       539\n",
      "        1160       0.90      0.92      0.91       786\n",
      "        1180       0.70      0.57      0.63       146\n",
      "        1280       0.64      0.59      0.61       961\n",
      "        1281       0.67      0.44      0.53       424\n",
      "        1300       0.83      0.89      0.86       974\n",
      "        1301       0.91      0.86      0.88       169\n",
      "        1302       0.77      0.72      0.75       507\n",
      "        1320       0.80      0.76      0.78       672\n",
      "        1560       0.86      0.79      0.82      1013\n",
      "        1920       0.90      0.89      0.90       841\n",
      "        1940       0.82      0.82      0.82       137\n",
      "        2060       0.83      0.75      0.79      1029\n",
      "        2220       0.84      0.76      0.80       170\n",
      "        2280       0.81      0.82      0.82       942\n",
      "        2403       0.72      0.76      0.74       986\n",
      "        2462       0.72      0.75      0.73       306\n",
      "        2522       0.87      0.93      0.90       991\n",
      "        2582       0.63      0.77      0.69       462\n",
      "        2583       0.96      0.98      0.97      2047\n",
      "        2585       0.81      0.72      0.76       525\n",
      "        2705       0.65      0.68      0.66       517\n",
      "        2905       0.98      0.94      0.96       189\n",
      "\n",
      "    accuracy                           0.79     16984\n",
      "   macro avg       0.78      0.77      0.77     16984\n",
      "weighted avg       0.79      0.79      0.79     16984\n",
      "\n"
     ]
    }
   ],
   "source": [
    "print(classification_report(y_test,y_pred))"
   ]
  },
  {
   "cell_type": "markdown",
   "metadata": {},
   "source": [
    "Nous atteignons un weighted f1_score de 79 % sur le jeu de test c'est la meilleure performance de tous les modèles qui ont été testés."
   ]
  }
 ],
 "metadata": {
  "accelerator": "GPU",
  "colab": {
   "name": "CNN conv1d texte.ipynb",
   "provenance": []
  },
  "kernelspec": {
   "display_name": "Python 3",
   "language": "python",
   "name": "python3"
  },
  "language_info": {
   "codemirror_mode": {
    "name": "ipython",
    "version": 3
   },
   "file_extension": ".py",
   "mimetype": "text/x-python",
   "name": "python",
   "nbconvert_exporter": "python",
   "pygments_lexer": "ipython3",
   "version": "3.8.5"
  }
 },
 "nbformat": 4,
 "nbformat_minor": 1
}
